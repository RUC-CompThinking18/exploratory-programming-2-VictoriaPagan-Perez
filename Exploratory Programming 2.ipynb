{
 "cells": [
  {
   "cell_type": "code",
   "execution_count": 1,
   "metadata": {},
   "outputs": [
    {
     "name": "stdout",
     "output_type": "stream",
     "text": [
      "2\n"
     ]
    }
   ],
   "source": [
    "x = ([8,-5,10])\n",
    "\n",
    "if type(x) != list :\n",
    "    raise TypeError('This is not a list') # This line of code and the line above it states that if the type inside of 'x' is not a list, then it is to raise a TypeError that states 'This is not a list.'\n",
    "else:\n",
    "    length = 0# this initalizes the variable check\n",
    "    for y in range (0,len(x)): #This sets the range of variables of the list.\n",
    "        if x[y]>0:    #this checks if the element is greater than zero\n",
    "            length = length +1  #This tells us to add another length every time the code hits a positive number.     \n",
    "    print length"
   ]
  },
  {
   "cell_type": "code",
   "execution_count": 4,
   "metadata": {},
   "outputs": [
    {
     "name": "stdout",
     "output_type": "stream",
     "text": [
      "1\n"
     ]
    }
   ],
   "source": [
    "x = ([-4,-5,10])\n",
    "\n",
    "if type(x) != list :\n",
    "    raise TypeError('This is not a list')\n",
    "else:\n",
    "    length = 0# this initalizes the variable\n",
    "    for y in range (0,len(x)): #This sets the range of variables of the list.\n",
    "        if x[y]>0:    #this checks if the element is greater than zero\n",
    "            length = length +1  #This tells us to add another length every time the code hits a positive number.     \n",
    "    print length"
   ]
  },
  {
   "cell_type": "code",
   "execution_count": 2,
   "metadata": {},
   "outputs": [
    {
     "ename": "TypeError",
     "evalue": "This is not a list",
     "output_type": "error",
     "traceback": [
      "\u001b[1;31m---------------------------------------------------------------------------\u001b[0m",
      "\u001b[1;31mTypeError\u001b[0m                                 Traceback (most recent call last)",
      "\u001b[1;32m<ipython-input-2-119164f97e16>\u001b[0m in \u001b[0;36m<module>\u001b[1;34m()\u001b[0m\n\u001b[0;32m      2\u001b[0m \u001b[1;33m\u001b[0m\u001b[0m\n\u001b[0;32m      3\u001b[0m \u001b[1;32mif\u001b[0m \u001b[0mtype\u001b[0m\u001b[1;33m(\u001b[0m\u001b[0mx\u001b[0m\u001b[1;33m)\u001b[0m \u001b[1;33m!=\u001b[0m \u001b[0mlist\u001b[0m \u001b[1;33m:\u001b[0m\u001b[1;33m\u001b[0m\u001b[0m\n\u001b[1;32m----> 4\u001b[1;33m     \u001b[1;32mraise\u001b[0m \u001b[0mTypeError\u001b[0m\u001b[1;33m(\u001b[0m\u001b[1;34m'This is not a list'\u001b[0m\u001b[1;33m)\u001b[0m\u001b[1;33m\u001b[0m\u001b[0m\n\u001b[0m\u001b[0;32m      5\u001b[0m \u001b[1;33m\u001b[0m\u001b[0m\n\u001b[0;32m      6\u001b[0m \u001b[0mlength\u001b[0m \u001b[1;33m=\u001b[0m \u001b[1;36m0\u001b[0m\u001b[1;33m\u001b[0m\u001b[0m\n",
      "\u001b[1;31mTypeError\u001b[0m: This is not a list"
     ]
    }
   ],
   "source": [
    "x = ('Elmo', 'lap')\n",
    "\n",
    "if type(x) != list :\n",
    "    raise TypeError('This is not a list')\n",
    "    \n",
    "length = 0\n",
    "for y in range (0,len(x)):\n",
    "    if x[y]>0:\n",
    "        length = length +1\n",
    "        \n",
    "print length"
   ]
  },
  {
   "cell_type": "code",
   "execution_count": null,
   "metadata": {},
   "outputs": [],
   "source": []
  },
  {
   "cell_type": "code",
   "execution_count": null,
   "metadata": {},
   "outputs": [],
   "source": []
  }
 ],
 "metadata": {
  "kernelspec": {
   "display_name": "Python 2",
   "language": "python",
   "name": "python2"
  },
  "language_info": {
   "codemirror_mode": {
    "name": "ipython",
    "version": 2
   },
   "file_extension": ".py",
   "mimetype": "text/x-python",
   "name": "python",
   "nbconvert_exporter": "python",
   "pygments_lexer": "ipython2",
   "version": "2.7.15"
  }
 },
 "nbformat": 4,
 "nbformat_minor": 2
}
